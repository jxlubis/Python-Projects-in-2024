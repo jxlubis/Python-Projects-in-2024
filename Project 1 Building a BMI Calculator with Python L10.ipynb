{
 "cells": [
  {
   "cell_type": "markdown",
   "id": "6c2b535f-ee0d-42f8-8520-0b3c6defc8cc",
   "metadata": {},
   "source": [
    "# BMI Calculator"
   ]
  },
  {
   "cell_type": "raw",
   "id": "10714d80-dc7e-4474-b576-6db11e72aafd",
   "metadata": {},
   "source": [
    "# Reference\n",
    "https://mercer-health.com/services/weight-management-center/bmi-calculator#:~:text=Body%20Mass%20Index%2C%20or%20BMI,inches%20x%20height%20in%20inches\n",
    "\n",
    "BMI = (weight in pounds x 703) / (height in inches x height in inches)\n",
    "\n",
    "Under 18.5 -> Underwight -> Minimal\n",
    "18.5 - 24.9 -> Normal Weight -> Minimal\n",
    "25 - 29.9 -> Overweight -> Increased\n",
    "30 - 34.9 -> Obese -> High\n",
    "35 - 39.9 -> Severely Obese -> Very High\n",
    "40 and over -> Morbidly Obese -> Extremly High"
   ]
  },
  {
   "cell_type": "code",
   "execution_count": 1,
   "id": "8f9d3dec-5729-4773-ba6b-0d86591e58ec",
   "metadata": {},
   "outputs": [
    {
     "name": "stdin",
     "output_type": "stream",
     "text": [
      "Enter your name:  Yataa\n",
      "Enter your weight in pounds:  170\n",
      "Enter your height in inches:  65\n"
     ]
    },
    {
     "name": "stdout",
     "output_type": "stream",
     "text": [
      "28.286390532544377\n",
      "Yataa, you are overweight. You need to exercise.\n"
     ]
    }
   ],
   "source": [
    "name = input(\"Enter your name: \")\n",
    "\n",
    "weight = int(input(\"Enter your weight in pounds: \"))\n",
    "\n",
    "height = int(input(\"Enter your height in inches: \"))\n",
    "\n",
    "BMI = (weight * 703) / (height * height)\n",
    "\n",
    "print(BMI)\n",
    "\n",
    "\n",
    "\n",
    "if BMI > 0:\n",
    "    if(BMI < 18.5):\n",
    "        print(name +\", you are underweight.\")\n",
    "    elif(BMI < 24.9):\n",
    "        print(name +\", you are normal weight.\")\n",
    "    elif(BMI < 29.9):\n",
    "        print(name +\", you are overweight. You need to exercise.\") \n",
    "    elif(BMI < 34.9):\n",
    "        print(name +\", you are obses. You need to exercise more.\") \n",
    "    elif(BMI < 39.9):\n",
    "        print(name +\", you are severely obses. You need to exercise more and stop sitting.\") \n",
    "    else:\n",
    "        print(name +\", you are morbidly obses.\")\n",
    "else:\n",
    "    print(\"Enter valid inputs.\")"
   ]
  },
  {
   "cell_type": "code",
   "execution_count": null,
   "id": "ada4dec5-af1a-4183-9ff9-84ffd684ffaf",
   "metadata": {},
   "outputs": [],
   "source": []
  },
  {
   "cell_type": "markdown",
   "id": "50627788-d2f7-4f27-8f14-35c5e6e0f190",
   "metadata": {},
   "source": [
    "# End"
   ]
  }
 ],
 "metadata": {
  "kernelspec": {
   "display_name": "Python 3 (ipykernel)",
   "language": "python",
   "name": "python3"
  },
  "language_info": {
   "codemirror_mode": {
    "name": "ipython",
    "version": 3
   },
   "file_extension": ".py",
   "mimetype": "text/x-python",
   "name": "python",
   "nbconvert_exporter": "python",
   "pygments_lexer": "ipython3",
   "version": "3.12.4"
  }
 },
 "nbformat": 4,
 "nbformat_minor": 5
}
