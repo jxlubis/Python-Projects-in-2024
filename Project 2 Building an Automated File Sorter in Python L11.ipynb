{
 "cells": [
  {
   "cell_type": "markdown",
   "id": "4fcd7fc0-0a0b-4b09-8e62-cc0f318d5bf4",
   "metadata": {},
   "source": [
    "# Automated File Sorter in File Explorer"
   ]
  },
  {
   "cell_type": "code",
   "execution_count": 99,
   "id": "94947dd6-35e8-404e-af0d-ef72c196b98b",
   "metadata": {},
   "outputs": [],
   "source": [
    "import os, shutil"
   ]
  },
  {
   "cell_type": "code",
   "execution_count": 101,
   "id": "2343f3f4-f43f-498a-a920-ac77f0a06b4f",
   "metadata": {},
   "outputs": [],
   "source": [
    "path = r\"D:/Data Analytic/Python Tutorial/\""
   ]
  },
  {
   "cell_type": "code",
   "execution_count": 73,
   "id": "2dea5085-07ba-45ee-af6a-cba86ec603d1",
   "metadata": {},
   "outputs": [
    {
     "data": {
      "text/plain": [
       "['ASUS.png',\n",
       " 'ASUS_CN.png',\n",
       " 'Data Professional Results Properties.csv',\n",
       " 'FakeFile.txt']"
      ]
     },
     "execution_count": 73,
     "metadata": {},
     "output_type": "execute_result"
    }
   ],
   "source": [
    "os.listdir(path)"
   ]
  },
  {
   "cell_type": "code",
   "execution_count": 103,
   "id": "82817eef-7861-46b9-9c71-70a0af760bbb",
   "metadata": {},
   "outputs": [],
   "source": [
    "file_name = os.listdir(path)"
   ]
  },
  {
   "cell_type": "code",
   "execution_count": 105,
   "id": "65a9ee50-2e09-4212-a4bb-b707de722312",
   "metadata": {},
   "outputs": [],
   "source": [
    "folder_names = ['csv files','image files','text files']\n",
    "\n",
    "for loop in range(0,3):\n",
    "    if not os.path.exists(path + folder_names[loop]):\n",
    "        #print(path + folder_names[loop])\n",
    "        os.makedirs(path + folder_names[loop])\n",
    "\n",
    "for file in file_name:\n",
    "    if \".csv\"in file and not os.path.exists(path + 'csv files/' + file):\n",
    "        shutil.move(path + file, path + 'csv files/' + file)\n",
    "    elif \".png\"in file and not os.path.exists(path + 'image files/' + file):\n",
    "        shutil.move(path + file, path + 'image files/' + file)\n",
    "    elif \".txt\"in file and not os.path.exists(path + 'text files/' + file):\n",
    "        shutil.move(path + file, path + 'text files/' + file)"
   ]
  },
  {
   "cell_type": "code",
   "execution_count": 97,
   "id": "7070102d-02b2-4218-af35-f1698880d2ee",
   "metadata": {},
   "outputs": [],
   "source": [
    "# hanya periksa pribadi, perhatikan tanda \"#\" yang menghilang\n",
    "# hasilnya sama dengan di atas, work\n",
    "\n",
    "folder_names = ['csv files','image files','text files']\n",
    "\n",
    "for loop in range(0,3):\n",
    "    if not os.path.exists(path + folder_names[loop]):\n",
    "        print(path + folder_names[loop])\n",
    "        os.makedirs(path + folder_names[loop])\n",
    "\n",
    "for file in file_name:\n",
    "    if \".csv\"in file and not os.path.exists(path + 'csv files/' + file):\n",
    "        shutil.move(path + file, path + 'csv files/' + file)\n",
    "    elif \".png\"in file and not os.path.exists(path + 'image files/' + file):\n",
    "        shutil.move(path + file, path + 'image files/' + file)\n",
    "    elif \".txt\"in file and not os.path.exists(path + 'text files/' + file):\n",
    "        shutil.move(path + file, path + 'text files/' + file)"
   ]
  },
  {
   "cell_type": "code",
   "execution_count": null,
   "id": "90b8f024-11d5-4166-9611-3a5c819dc817",
   "metadata": {},
   "outputs": [],
   "source": []
  },
  {
   "cell_type": "markdown",
   "id": "0c772cca-4d27-43f3-ae6c-28a4af58df1d",
   "metadata": {},
   "source": [
    "# End"
   ]
  }
 ],
 "metadata": {
  "kernelspec": {
   "display_name": "Python 3 (ipykernel)",
   "language": "python",
   "name": "python3"
  },
  "language_info": {
   "codemirror_mode": {
    "name": "ipython",
    "version": 3
   },
   "file_extension": ".py",
   "mimetype": "text/x-python",
   "name": "python",
   "nbconvert_exporter": "python",
   "pygments_lexer": "ipython3",
   "version": "3.12.4"
  }
 },
 "nbformat": 4,
 "nbformat_minor": 5
}
